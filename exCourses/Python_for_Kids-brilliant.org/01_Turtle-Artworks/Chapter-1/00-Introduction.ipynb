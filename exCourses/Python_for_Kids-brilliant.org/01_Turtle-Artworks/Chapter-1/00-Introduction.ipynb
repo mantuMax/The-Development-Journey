{
 "cells": [
  {
   "cell_type": "code",
   "execution_count": 1,
   "id": "99d6ab7b",
   "metadata": {},
   "outputs": [],
   "source": [
    "import turtle"
   ]
  },
  {
   "cell_type": "code",
   "execution_count": 2,
   "id": "cf57fd11",
   "metadata": {},
   "outputs": [],
   "source": [
    "s = turtle.getscreen()"
   ]
  },
  {
   "cell_type": "code",
   "execution_count": 3,
   "id": "a9db74c2",
   "metadata": {},
   "outputs": [],
   "source": [
    "t = turtle.Turtle()"
   ]
  },
  {
   "cell_type": "code",
   "execution_count": 4,
   "id": "327166ef",
   "metadata": {},
   "outputs": [],
   "source": [
    "t.fd(100)\n",
    "t.left(90)\n",
    "t.back(200)"
   ]
  },
  {
   "cell_type": "code",
   "execution_count": null,
   "id": "98b9aeb4",
   "metadata": {},
   "outputs": [],
   "source": []
  }
 ],
 "metadata": {
  "interpreter": {
   "hash": "442f337c2d8666fae38dd4121aeebfcb17db72e9329e6b7677c5bc5f1cd074c2"
  },
  "kernelspec": {
   "display_name": "Python 3.8.8 64-bit ('base': conda)",
   "language": "python",
   "name": "python3"
  },
  "language_info": {
   "codemirror_mode": {
    "name": "ipython",
    "version": 3
   },
   "file_extension": ".py",
   "mimetype": "text/x-python",
   "name": "python",
   "nbconvert_exporter": "python",
   "pygments_lexer": "ipython3",
   "version": "3.10.0"
  }
 },
 "nbformat": 4,
 "nbformat_minor": 5
}
